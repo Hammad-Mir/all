{
 "cells": [
  {
   "cell_type": "code",
   "execution_count": 1,
   "metadata": {},
   "outputs": [
    {
     "name": "stderr",
     "output_type": "stream",
     "text": [
      "Using TensorFlow backend.\n"
     ]
    }
   ],
   "source": [
    "import cv2\n",
    "import os\n",
    "import keras\n",
    "import numpy as np\n",
    "import matplotlib as plt\n",
    "from keras.models import Sequential, Model\n",
    "from keras.layers import Dense , Conv2D, Dropout, Flatten, MaxPooling2D, GlobalAveragePooling2D, Input, Conv2DTranspose, Input\n",
    "from keras.utils import np_utils\n",
    "from keras.optimizers import Adadelta, RMSprop,SGD\n",
    "from keras.layers.normalization import BatchNormalization\n",
    "from sklearn.model_selection import train_test_split\n",
    "\n",
    "seed = 7\n",
    "np.random.seed(seed)"
   ]
  },
  {
   "cell_type": "code",
   "execution_count": 3,
   "metadata": {},
   "outputs": [
    {
     "data": {
      "text/plain": [
       "['Im001_1.jpg', 'Im002_1.jpg', 'Im003_1.jpg', 'Im004_1.jpg']"
      ]
     },
     "execution_count": 3,
     "metadata": {},
     "output_type": "execute_result"
    }
   ],
   "source": [
    "d = 'G:\\Study\\Project\\ALL\\ALL_IDB\\A\\im'\n",
    "d=os.listdir(d)\n",
    "d"
   ]
  },
  {
   "cell_type": "code",
   "execution_count": 8,
   "metadata": {},
   "outputs": [],
   "source": [
    "def data_loader(data):\n",
    "    train_list0=os.listdir(data)\n",
    "    # Map class names to integer labels\n",
    "    # train_class_labels = { label: index for index, label in enumerate(class_names) } \n",
    "      \n",
    "    # Number of classes in the dataset\n",
    "    #num_classes=len(train_list0)\n",
    "\n",
    "    # Empty lists for loading training and testing data images as well as corresponding labels\n",
    "    x=[]\n",
    "    \n",
    "    # Loading training data\n",
    "    path1=data                        #+'/'+str(elem)\n",
    "    images=os.listdir(path1)\n",
    "    for elem2 in images:\n",
    "        path2=path1+'/'+str(elem2)\n",
    "        # Read the image form the directory\n",
    "        img = cv2.imread(path2)  \n",
    "        # Append image to the train data list\n",
    "        x.append(img)\n",
    "        \n",
    "   \n",
    "    # Convert lists into numpy arrays\n",
    "\n",
    "    x = np.asarray(x)\n",
    "\n",
    "    return x"
   ]
  },
  {
   "cell_type": "code",
   "execution_count": 9,
   "metadata": {},
   "outputs": [],
   "source": [
    "d = 'G:\\Study\\Project\\ALL\\ALL_IDB\\A\\im'"
   ]
  },
  {
   "cell_type": "code",
   "execution_count": 11,
   "metadata": {},
   "outputs": [],
   "source": [
    "X = data_loader(d)\n",
    "\n",
    "input_shape = (X.shape[1], X.shape[2], X.shape[3])\n",
    "\n",
    "X = X.astype('float32')\n",
    "\n",
    "X = X / 255."
   ]
  },
  {
   "cell_type": "code",
   "execution_count": 12,
   "metadata": {},
   "outputs": [],
   "source": [
    "###########################################  Encoder  ####################################################\n",
    "\n",
    "\n",
    "def Encoder(input_img):\n",
    "\n",
    "\tEconv1_1 = Conv2D(16, (3, 3), activation='relu', padding='same', name = \"block1_conv1\")(input_img)\n",
    "\tEconv1_1 = BatchNormalization()(Econv1_1)\n",
    "\tEconv1_2 = Conv2D(16, (3, 3), activation='relu', padding='same',  name = \"block1_conv2\")(Econv1_1)\n",
    "\tEconv1_2 = BatchNormalization()(Econv1_2)\n",
    "\tpool1 = MaxPooling2D(pool_size=(2, 2),strides=(2,2),padding='same', name = \"block1_pool1\")(Econv1_2)\n",
    "\t\n",
    "\tEconv2_1 = Conv2D(64, (3, 3), activation='relu', padding='same', name = \"block2_conv1\")(pool1)\n",
    "\tEconv2_1 = BatchNormalization()(Econv2_1)\n",
    "\tEconv2_2 = Conv2D(64, (3, 3), activation='relu', padding='same', name = \"block2_conv2\")(Econv2_1)\n",
    "\tEconv2_2 = BatchNormalization()(Econv2_2)\n",
    "\tpool2= MaxPooling2D(pool_size=(2, 2),strides=(2,2), padding='same', name = \"block2_pool1\")(Econv2_2)\n",
    "\n",
    "\tEconv3_1 = Conv2D(128, (3, 3), activation='relu', padding='same', name = \"block3_conv1\")(pool2)\n",
    "\tEconv3_1 = BatchNormalization()(Econv3_1)\n",
    "\tEconv3_2 = Conv2D(128, (3, 3), activation='relu', padding='same', name = \"block3_conv2\")(Econv3_1)\n",
    "\tEconv3_2 = BatchNormalization()(Econv3_2)\n",
    "\tpool3 = MaxPooling2D(pool_size=(2, 2),strides=(2,2), padding='same', name = \"block3_pool1\")(Econv3_2)\n",
    "\n",
    "\tencoded = Model(inputs = input_img, outputs = pool3 )\n",
    "\n",
    "\treturn encoded"
   ]
  },
  {
   "cell_type": "code",
   "execution_count": 13,
   "metadata": {},
   "outputs": [],
   "source": [
    "##########################################  Decoder   ##################################################\n",
    "\n",
    "def Decoder(inp ):\n",
    "\n",
    "\tup1 = Conv2DTranspose(128,(3,3),strides = (2,2), activation = 'relu', padding = 'same', name = \"upsample_1\")(inp)\n",
    "\tup1 = BatchNormalization()(up1)\n",
    "\t#up1 = merge([up1, inp[3]], mode='concat', concat_axis=3, name = \"merge_1\")\n",
    "\tUpconv1_1 = Conv2D(128, (3, 3), activation='relu', padding='same', name = \"Upconv1_1\")(up1)\n",
    "\tUpconv1_1 = BatchNormalization()(Upconv1_1)\n",
    "\tUpconv1_2 = Conv2D(128, (3, 3), activation='relu', padding='same', name = \"Upconv1_2\")(Upconv1_1)\n",
    "\tUpconv1_2 = BatchNormalization()(Upconv1_2)\n",
    "\n",
    "\tup2 = Conv2DTranspose(64,(3,3),strides = (2,2), activation = 'relu', padding = 'same', name = \"upsample_2\")(Upconv1_2)\n",
    "\tup2 = BatchNormalization()(up2)\n",
    "\t#up2 = merge([up2, inp[2]], mode='concat', concat_axis=3, name = \"merge_2\")\n",
    "\tUpconv2_1 = Conv2D(64, (3, 3), activation='relu', padding='same', name = \"Upconv2_1\")(up2)\n",
    "\tUpconv2_1 = BatchNormalization()(Upconv2_1)\n",
    "\tUpconv2_2 = Conv2D(64, (3, 3), activation='relu', padding='same', name = \"Upconv2_2\")(Upconv2_1)\n",
    "\tUpconv2_2 = BatchNormalization()(Upconv2_2)\n",
    "\t\n",
    "\tup3 = Conv2DTranspose(16,(3,3),strides = (2,2), activation = 'relu', padding = 'same', name = \"upsample_3\")(Upconv2_2)\n",
    "\tup3 = BatchNormalization()(up3)\n",
    "\t#up3 = merge([up3, inp[1]], mode='concat', concat_axis=3, name = \"merge_3\")\n",
    "\tUpconv3_1 = Conv2D(16, (3, 3), activation='relu', padding='same', name = \"Upconv3_1\")(up3)\n",
    "\tUpconv3_1 = BatchNormalization()(Upconv3_1)\n",
    "\tUpconv3_2 = Conv2D(16, (3, 3), activation='relu', padding='same', name = \"Upconv3_2\")(Upconv3_1)\n",
    "\tUpconv3_2 = BatchNormalization()(Upconv3_2)\n",
    "\t   \n",
    "\tdecoded = Conv2D(3, (3, 3), activation='sigmoid', padding='same', name = \"Ouput_layer\")(Upconv3_2)\n",
    "\tconvnet = Model(inputs = inp, outputs =  decoded)\n",
    "\n",
    "\treturn convnet"
   ]
  },
  {
   "cell_type": "code",
   "execution_count": null,
   "metadata": {},
   "outputs": [
    {
     "name": "stdout",
     "output_type": "stream",
     "text": [
      "WARNING:tensorflow:From c:\\users\\mir's pc\\appdata\\local\\programs\\python\\python36\\lib\\site-packages\\tensorflow\\python\\framework\\op_def_library.py:263: colocate_with (from tensorflow.python.framework.ops) is deprecated and will be removed in a future version.\n",
      "Instructions for updating:\n",
      "Colocations handled automatically by placer.\n",
      "_________________________________________________________________\n",
      "Layer (type)                 Output Shape              Param #   \n",
      "=================================================================\n",
      "input_1 (InputLayer)         (None, 1368, 1712, 3)     0         \n",
      "_________________________________________________________________\n",
      "model_1 (Model)              (None, 171, 214, 128)     272080    \n",
      "_________________________________________________________________\n",
      "model_2 (Model)              multiple                  607203    \n",
      "=================================================================\n",
      "Total params: 879,283\n",
      "Trainable params: 877,203\n",
      "Non-trainable params: 2,080\n",
      "_________________________________________________________________\n",
      "WARNING:tensorflow:From c:\\users\\mir's pc\\appdata\\local\\programs\\python\\python36\\lib\\site-packages\\tensorflow\\python\\ops\\math_ops.py:3066: to_int32 (from tensorflow.python.ops.math_ops) is deprecated and will be removed in a future version.\n",
      "Instructions for updating:\n",
      "Use tf.cast instead.\n",
      "Epoch 1/5\n"
     ]
    }
   ],
   "source": [
    "input_img = Input(shape=input_shape)\n",
    "\n",
    "#Encoders[1]*100))\n",
    "encoded = Encoder(input_img)\t#return encoded representation with intermediate layer Pool3(encoded)\n",
    "\n",
    "#Decoder\n",
    "decoded = Decoder(Input(shape=(214, 171, 128)))\n",
    "\n",
    "output_img = decoded(encoded(input_img))\n",
    "\n",
    "model= Model(inputs = input_img, outputs = output_img )\n",
    "\n",
    "model.summary()\n",
    "\n",
    "model.compile(optimizer = SGD(0.0002), loss='binary_crossentropy', metrics = [\"accuracy\"])\n",
    "\n",
    "model.fit(X, X, batch_size=1, epochs=5, verbose=1)"
   ]
  },
  {
   "cell_type": "code",
   "execution_count": null,
   "metadata": {},
   "outputs": [],
   "source": []
  }
 ],
 "metadata": {
  "kernelspec": {
   "display_name": "Python 3",
   "language": "python",
   "name": "python3"
  },
  "language_info": {
   "codemirror_mode": {
    "name": "ipython",
    "version": 3
   },
   "file_extension": ".py",
   "mimetype": "text/x-python",
   "name": "python",
   "nbconvert_exporter": "python",
   "pygments_lexer": "ipython3",
   "version": "3.6.8"
  }
 },
 "nbformat": 4,
 "nbformat_minor": 2
}
